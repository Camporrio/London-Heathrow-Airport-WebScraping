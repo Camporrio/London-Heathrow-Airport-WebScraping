{
  "cells": [
    {
      "cell_type": "code",
      "execution_count": 1,
      "metadata": {
        "id": "WVVsAKeypmgu"
      },
      "outputs": [],
      "source": [
        "#Autors : Guillem Campo Fons - Aleix Yébenes Creus \n",
        "\n",
        "import pandas\n",
        "import requests\n",
        "import lxml\n",
        "from bs4 import BeautifulSoup\n",
        "from datetime import datetime\n",
        "import re\n",
        "\n",
        "#URL's airport london heathrow by the day of execution\n",
        "\n",
        "URL_yesterday = ['https://www.airport-london-heathrow.com/lhr-arrivals?tp=0&day=yesterday',\n",
        "                 'https://www.airport-london-heathrow.com/lhr-arrivals?tp=6&day=yesterday',\n",
        "                 'https://www.airport-london-heathrow.com/lhr-arrivals?tp=12&day=yesterday',\n",
        "                 'https://www.airport-london-heathrow.com/lhr-arrivals?tp=18&day=yesterday']\n",
        "\n",
        "URL_today = ['https://www.airport-london-heathrow.com/lhr-arrivals?tp=0',\n",
        "             'https://www.airport-london-heathrow.com/lhr-arrivals?tp=6',\n",
        "             'https://www.airport-london-heathrow.com/lhr-arrivals?tp=12',\n",
        "             'https://www.airport-london-heathrow.com/lhr-arrivals?tp=18']\n",
        "\n",
        "URL_tomorrow = ['https://www.airport-london-heathrow.com/lhr-arrivals?tp=0&day=tomorrow',\n",
        "                'https://www.airport-london-heathrow.com/lhr-arrivals?tp=6&day=tomorrow',\n",
        "                'https://www.airport-london-heathrow.com/lhr-arrivals?tp=12&day=tomorrow',\n",
        "                'https://www.airport-london-heathrow.com/lhr-arrivals?tp=18&day=tomorrow']\n",
        "\n",
        "#In this example we will use the arrivals of the same day of the execution\n",
        "\n",
        "dests = []\n",
        "hores = []\n",
        "flights = []\n",
        "airlines = []\n",
        "terms = []\n",
        "statuss = []\n",
        "\n",
        "#We iterate for every url of URL_today\n",
        "for url in range(0,4):\n",
        "  page = requests.get(URL_today[url])\n",
        "\n",
        "  #Changing data of the URL for a better performance\n",
        "\n",
        "  texto = page.text.replace('<div class=\"flight-col flight-col__terminal\"></div>', '<div class=\"flight-col flight-col__terminal\">Unknown</div>')\n",
        "  texto = texto.replace('Basel, Switzerland / Mulhouse','<b>Basel, Switzerland / Mulhouse</b>')\n",
        "  texto = texto.replace('flight-col flight-col__status flight-col__status--GR','flight-col flight-col__status flight-col__status')\n",
        "  texto = texto.replace('flight-col flight-col__status flight-col__status--G','flight-col flight-col__status flight-col__status')\n",
        "  texto = texto.replace('flight-col flight-col__status flight-col__status--R','flight-col flight-col__status flight-col__status')\n",
        "  texto = texto.replace('flight-col flight-col__status flight-col__status--Y','flight-col flight-col__status flight-col__status')\n",
        "  texto = texto.replace('flight-col flight-col__status flight-col__status--O','flight-col flight-col__status flight-col__status')\n",
        "  soup = BeautifulSoup(texto,'html.parser')\n",
        "\n",
        "  flightrow = soup.find_all('div', 'flight-row')\n",
        "\n",
        "  #we iterate between each flight arrival row\n",
        "  for i in flightrow:\n",
        "\n",
        "      #Origin data\n",
        "      dest = i.find('div', class_='flight-col flight-col__dest-term')\n",
        "      dests.append(dest)\n",
        "\n",
        "      #Hour data\n",
        "      hora = i.find('div',class_='flight-col flight-col__hour')\n",
        "      hores.append(hora)\n",
        "\n",
        "      #Flights data\n",
        "      flight = i.find('div',class_='flight-col flight-col__flight') \n",
        "      flights.append(flight)\n",
        "\n",
        "      #Airlines data\n",
        "      airline = i.find('div',class_='flight-col flight-col__airline')\n",
        "      airlines.append(airline)\n",
        "\n",
        "      #Terminal data\n",
        "      term = i.find('div',class_='flight-col flight-col__terminal')\n",
        "      terms.append(term)\n",
        "\n",
        "      #Status data\n",
        "      status= i.find('div',class_='flight-col flight-col__status flight-col__status' )\n",
        "      statuss.append(status)\n"
      ]
    },
    {
      "cell_type": "code",
      "execution_count": 2,
      "metadata": {
        "id": "mtNuY_hBFTUt"
      },
      "outputs": [],
      "source": [
        "#Origin data of flights\n",
        "#We divide the Origin in two parts, the origin and the abbreviated origin\n",
        "\n",
        "#Abbreviated origin\n",
        "dests_clean = lxml.etree.HTML(str(dests))\n",
        "dests_clean = dests_clean.xpath('//span/text()')\n",
        "\n",
        "#Origin\n",
        "dests_clean2 = lxml.etree.HTML(str(dests))\n",
        "dests_clean2 = dests_clean2.xpath('//b/text()')"
      ]
    },
    {
      "cell_type": "code",
      "execution_count": 3,
      "metadata": {
        "id": "HHaDMv7VGqox"
      },
      "outputs": [],
      "source": [
        "#Hour data of flights\n",
        "hores_clean = lxml.etree.HTML(str(hores))\n",
        "hores_clean = hores_clean.xpath('//div/text()')\n",
        "\n",
        "hores_clean2 = []\n",
        "\n",
        "#To clean the hour data we search for hour patterns \n",
        "#to get only the hour value\n",
        "\n",
        "for hora in hores_clean:\n",
        "  hora = re.search('\\d{2}:\\d{2}',hora)\n",
        "  if hora != None:\n",
        "    hora = hora.group(0)\n",
        "  hores_clean2.append(hora)\n",
        "  hores_clean2 = [ele for ele in hores_clean2 if ele != None]\n"
      ]
    },
    {
      "cell_type": "code",
      "execution_count": 4,
      "metadata": {
        "id": "7II9vIfUYJhi"
      },
      "outputs": [],
      "source": [
        "#Flight codes data of flights\n",
        "#It can exists more than one flight code in one flight row, because \n",
        "#more than one company offers the same flight\n",
        "\n",
        "flights_processed = []\n",
        "\n",
        "#We iterate between codes into a flight row\n",
        "for i in range(0,len(flights)):\n",
        "  flights_clean = lxml.etree.HTML(str(flights[i]))\n",
        "\n",
        "  flights_clean = flights_clean.xpath('//a/text()')\n",
        "\n",
        "  flights_processed.append(flights_clean)\n",
        "\n",
        "  flights_processed = [ele for ele in flights_processed if ele != []]\n"
      ]
    },
    {
      "cell_type": "code",
      "execution_count": 5,
      "metadata": {
        "id": "xKgaVena_BqI"
      },
      "outputs": [],
      "source": [
        "#Airlines data of flights\n",
        "#As we mentioned previously more than one company offers the same flight\n",
        "#So we have multiple airlines in the row of the flight\n",
        "\n",
        "airlines_processed = []\n",
        "\n",
        "#We iterate between airlines into a flight row\n",
        "for i in range(0,len(airlines)):\n",
        "  test = lxml.etree.HTML(str(airlines[i]))\n",
        "  airlines_clean = test.xpath('//a/text()')\n",
        "\n",
        "  #for data cleaning we replace some strings that we don't need\n",
        "  if airlines_clean == []:\n",
        "    airlines_clean = str(airlines[i]).replace('<div class=\"flight-col flight-col__airline\">','')\n",
        "    airlines_clean = airlines_clean.replace('\\t','')\n",
        "    airlines_clean = airlines_clean.replace('\\n','')\n",
        "    airlines_clean = airlines_clean.replace('</div>','')\n",
        "    airlines_clean = [airlines_clean]\n",
        "\n",
        "  airlines_processed.append(airlines_clean)\n",
        "  \n",
        "  airlines_processed = [ele for ele in airlines_processed if ele != ['Airline']]\n",
        "  airlines_processed = [ele for ele in airlines_processed if ele != ['None']]\n"
      ]
    },
    {
      "cell_type": "code",
      "execution_count": 6,
      "metadata": {
        "id": "076B7kGPYoAn"
      },
      "outputs": [],
      "source": [
        "#Terminal data of flights\n",
        "#We only can have one terminal per flight\n",
        "\n",
        "terms_clean = lxml.etree.HTML(str(terms))\n",
        "\n",
        "terms_clean = terms_clean.xpath('//div/text()')\n",
        "\n",
        "terms_processed = [ele for ele in terms_clean if ele != 'Terminal']\n"
      ]
    },
    {
      "cell_type": "code",
      "source": [
        "#Status data of flights\n",
        "#We only can have one status per flight\n",
        "\n",
        "status_clean = lxml.etree.HTML(str(statuss))\n",
        "\n",
        "status_clean = status_clean.xpath('//a/text()')\n",
        "\n",
        "status_processed = [ele for ele in status_clean if ele != 'Status']\n"
      ],
      "metadata": {
        "id": "SX2DRsVIbD0o"
      },
      "execution_count": 7,
      "outputs": []
    },
    {
      "cell_type": "code",
      "source": [
        "#Let's see if we have the same length on every column\n",
        "\n",
        "print(len(dests_clean2))\n",
        "print(len(dests_clean))\n",
        "print(len(hores_clean2))\n",
        "print(len(flights_processed))\n",
        "print(len(airlines_processed))\n",
        "print(len(terms_processed))\n",
        "print(len(status_processed))"
      ],
      "metadata": {
        "colab": {
          "base_uri": "https://localhost:8080/"
        },
        "id": "cRmpVIiF4sP0",
        "outputId": "03188ec8-adca-47e0-dbdd-1587202b7ba2"
      },
      "execution_count": 8,
      "outputs": [
        {
          "output_type": "stream",
          "name": "stdout",
          "text": [
            "576\n",
            "576\n",
            "576\n",
            "576\n",
            "576\n",
            "576\n",
            "576\n"
          ]
        }
      ]
    },
    {
      "cell_type": "code",
      "execution_count": 9,
      "metadata": {
        "id": "UxU5lwKLYFMD"
      },
      "outputs": [],
      "source": [
        "#Generating the dataset\n",
        "now = datetime.now()\n",
        "day_date = datetime.strftime(now, '%Y-%m-%d')\n",
        "col_date = [day_date]*len(dests_clean)\n",
        "flights_list = pandas.DataFrame({\n",
        "    'Origin': dests_clean2,\n",
        "    'Origin Abreviated': dests_clean,\n",
        "    'Arrival': hores_clean2,\n",
        "    'Flights': flights_processed,\n",
        "    'Airline': airlines_processed,\n",
        "    'Terminal': terms_processed,\n",
        "    'Status': status_processed,\n",
        "    'Day' : col_date,\n",
        "})\n",
        "\n",
        "#We save the dataset in a csv file with the name as the day of the execution\n",
        "\n",
        "filename = datetime.strftime(now, '%Yy%mm%dd_%Hh%Mm%Ss')\n",
        "\n",
        "flights_list.to_csv('flights_list_' + filename + '.csv')\n"
      ]
    }
  ],
  "metadata": {
    "colab": {
      "collapsed_sections": [],
      "name": "Copia de webScrapping-final.ipynb",
      "provenance": [],
      "history_visible": true
    },
    "kernelspec": {
      "display_name": "Python 3",
      "name": "python3"
    },
    "language_info": {
      "name": "python"
    }
  },
  "nbformat": 4,
  "nbformat_minor": 0
}
